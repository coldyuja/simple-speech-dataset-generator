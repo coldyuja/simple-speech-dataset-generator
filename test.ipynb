{
 "cells": [
  {
   "cell_type": "markdown",
   "metadata": {},
   "source": [
    "TODO\n",
    "Correction for SepReformerSettings sr duplicated"
   ]
  },
  {
   "cell_type": "code",
   "execution_count": 1,
   "metadata": {},
   "outputs": [],
   "source": [
    "import os\n",
    "import warnings\n",
    "import torch"
   ]
  },
  {
   "cell_type": "code",
   "execution_count": 2,
   "metadata": {},
   "outputs": [],
   "source": [
    "warnings.filterwarnings('ignore')"
   ]
  },
  {
   "cell_type": "code",
   "execution_count": 3,
   "metadata": {},
   "outputs": [],
   "source": [
    "workdir, _ = os.path.split(os.path.abspath(os.getcwd()))\n",
    "input = os.path.join(os.getcwd(), 'SepReformer/sample_wav/sample_WSJ.wav')"
   ]
  },
  {
   "cell_type": "code",
   "execution_count": 4,
   "metadata": {},
   "outputs": [],
   "source": [
    "from simple_vg.vg_types import AudioSetting\n",
    "\n",
    "settings: AudioSetting = {\n",
    "    'mono': True,\n",
    "    'n_fft': None,\n",
    "    'sr': 16000,\n",
    "    'use_torch': True,\n",
    "    'window_size': None,\n",
    "    'opt_settings': None\n",
    "}\n"
   ]
  },
  {
   "cell_type": "code",
   "execution_count": 5,
   "metadata": {},
   "outputs": [],
   "source": [
    "from simple_vg.process_audio import LoadAudioFile, LoadAudioSettings, LoadAudioBackends\n",
    "\n",
    "load_settings: LoadAudioSettings = {\n",
    "    'backend': LoadAudioBackends.TORCH_SOX,\n",
    "    'effects': [],\n",
    "    'channel_first': True\n",
    "}\n",
    "\n",
    "settings['opt_settings'] = load_settings\n",
    "\n",
    "load_audio = LoadAudioFile(settings)"
   ]
  },
  {
   "cell_type": "code",
   "execution_count": 6,
   "metadata": {},
   "outputs": [],
   "source": [
    "from simple_vg.process_audio import NoiseReductionModels, CleaningAudio, CleaningAudioSetting\n",
    "\n",
    "clean_settings: CleaningAudioSetting = {\n",
    "    'reduce_noise_lib': NoiseReductionModels.NOISEREDUCE,\n",
    "    'stationary': False\n",
    "}\n",
    "settings['opt_settings'] = clean_settings\n",
    "clean_audio = CleaningAudio(settings)"
   ]
  },
  {
   "cell_type": "code",
   "execution_count": 7,
   "metadata": {},
   "outputs": [],
   "source": [
    "from simple_vg.simple_elements import ClosureElement\n",
    "\n",
    "only_wav = ClosureElement(lambda _, inp: inp[0], None)"
   ]
  },
  {
   "cell_type": "code",
   "execution_count": 8,
   "metadata": {},
   "outputs": [],
   "source": [
    "from simple_vg.speech_separation.sepreformer import *\n",
    "\n",
    "sep_model_settings: SepReformerSetting = {\n",
    "    'batch_size': 1,\n",
    "    'chunk_max_len': None,\n",
    "    'distributed_gpu': False,\n",
    "    'model': SepReformerModels.SepReformer_Base_WSJ0,\n",
    "    'n_speaker': 2,\n",
    "    'sr': 16000\n",
    "}\n"
   ]
  },
  {
   "cell_type": "code",
   "execution_count": 9,
   "metadata": {},
   "outputs": [],
   "source": [
    "from simple_vg.process_overlap import *\n",
    "\n",
    "sep_settings: SeparateOverlappedSettings = {\n",
    "    'model_settings': sep_model_settings,\n",
    "    'model': SeparateOverlappedModels.SepReformer\n",
    "}\n",
    "\n",
    "overlap_settings: ProcessOverlappedAudioSettings = {\n",
    "    'tasks': ProcessOverlappedAudioTasks.SEPARATE_AUDIO,\n",
    "    'separation_settings': sep_settings\n",
    "}\n",
    "\n",
    "settings['opt_settings'] = overlap_settings\n",
    "overlap_elem = ProcessOverlappedAudio(settings)"
   ]
  },
  {
   "cell_type": "code",
   "execution_count": 10,
   "metadata": {},
   "outputs": [],
   "source": [
    "from simple_vg.activity_detection import *\n",
    "\n",
    "vad_p_settings: VADPipelineSetting = {\n",
    "    'vad_model': VADModels.Silero_VAD\n",
    "}\n",
    "\n",
    "vad_settings: VoiceActivityDetectionSetting = {\n",
    "    'pipeline_settings': vad_p_settings,\n",
    "    'tasks': [\n",
    "        VoiceActivityDetectionTasks.ACTIVITY_DETECTION, \n",
    "        VoiceActivityDetectionTasks.SPLIT_BY_ACTIVITY\n",
    "    ]\n",
    "}\n",
    "\n",
    "settings['opt_settings'] = vad_settings\n",
    "\n",
    "vad_elem = VoiceActivityDetection(settings)"
   ]
  },
  {
   "cell_type": "code",
   "execution_count": 11,
   "metadata": {},
   "outputs": [],
   "source": [
    "audio_tensor_squeeze = ClosureElement(lambda _, inp: inp.squeeze(), None)"
   ]
  },
  {
   "cell_type": "code",
   "execution_count": 12,
   "metadata": {},
   "outputs": [],
   "source": [
    "import simple_vg.extract_text as stt\n",
    "from simple_vg.extract_text import ExtractText\n",
    "\n",
    "stt_settings = stt.default_settings()\n",
    "stt_settings['batch_size'] = 2\n",
    "settings['opt_settings'] = stt_settings\n",
    "stt_mod = ExtractText(settings) \n",
    "#Input shape: (..., S) [(x, y, z, w, S) => view(x*y*z*w=B_stt, S)]\n",
    "#Output shape: (B_stt, S) => [[DecodingResult * ceil(S/3000)] * B_stt]\n"
   ]
  },
  {
   "cell_type": "code",
   "execution_count": 13,
   "metadata": {},
   "outputs": [],
   "source": [
    "from simple_vg.simple_elements import *"
   ]
  },
  {
   "cell_type": "code",
   "execution_count": 14,
   "metadata": {},
   "outputs": [],
   "source": [
    "output_audio_paths = [os.path.join(os.getcwd(), 'SepReformer/sample_wav/sample_WSJ_output'+str(i)+'.wav') for i in range(2)]\n",
    "output_text_data_paths = [os.path.join(os.getcwd(), 'SepReformer/sample_wav/sample_WSJ_output.txt')]"
   ]
  },
  {
   "cell_type": "code",
   "execution_count": 15,
   "metadata": {},
   "outputs": [],
   "source": [
    "from simple_vg.process_audio import SaveAudioFiles, SaveAudioSettings\n",
    "from simple_vg.process_text import ToTextDataset, SaveTextFile\n",
    "settings['opt_settings'] = {}\n",
    "settings['n_channels'] = 1"
   ]
  },
  {
   "cell_type": "code",
   "execution_count": null,
   "metadata": {},
   "outputs": [
    {
     "name": "stdout",
     "output_type": "stream",
     "text": [
      "ValidateElement:\tData: (tensor([[-0.0293, -0.0385, -0.0384,  ..., -0.0384, -0.0499, -0.0310]]), 16000)\n",
      "Index-0 Element: LoadAudioFile Output: tuple, shape: None\n",
      "ValidateElement:\tData: tensor([[-0.0293, -0.0385, -0.0384,  ..., -0.0384, -0.0499, -0.0310]])\n",
      "Index-1 Element: ClosureElement Output: Tensor, shape: torch.Size([1, 147186])\n",
      "ValidateElement:\tData: tensor([[-0.0053, -0.0056, -0.0047,  ...,  0.0255,  0.0286,  0.0298]],\n",
      "       device='cuda:0')\n",
      "Index-2 Element: CleaningAudio Output: Tensor, shape: torch.Size([1, 146944])\n",
      "ValidateElement:\tData: tensor([[[[-0.0402, -0.0330, -0.0336,  ...,  0.0895,  0.1154,  0.1716]],\n",
      "\n",
      "         [[ 0.0304,  0.0295,  0.0244,  ..., -0.5869, -0.6393, -0.6792]]]],\n",
      "       device='cuda:0')\n",
      "Index-3 Element: ProcessOverlappedAudio Output: Tensor, shape: torch.Size([1, 2, 1, 146944])\n",
      "ProcessAudio\tRoot Input: Tensor, shape: torch.Size([1, 2, 1, 146944])\n",
      "ValidateElement:\tData: tensor([[-0.0402, -0.0330, -0.0336,  ...,  0.0895,  0.1154,  0.1716],\n",
      "        [ 0.0304,  0.0295,  0.0244,  ..., -0.5869, -0.6393, -0.6792]],\n",
      "       device='cuda:0')\n",
      "ProcessAudio-0\tIndex-0 Element: ClosureElement Output: Tensor, shape: torch.Size([2, 146944])\n",
      "ValidateElement:\tData: [tensor([-0.0402, -0.0330, -0.0336,  ...,  0.0895,  0.1154,  0.1716],\n",
      "       device='cuda:0'), tensor([ 0.0304,  0.0295,  0.0244,  ..., -0.5869, -0.6393, -0.6792],\n",
      "       device='cuda:0')]\n",
      "ProcessAudio-0\tIndex-1 Element: ClosureElement Output: list, shape: None\n",
      "ValidateElement:\tData: [tensor([-0.0402, -0.0330, -0.0336,  ...,  0.0895,  0.1154,  0.1716]), tensor([ 0.0304,  0.0295,  0.0244,  ..., -0.5869, -0.6393, -0.6792])]\n",
      "ProcessAudio-0\tIndex-2 Element: TensorToDevice Output: list, shape: None\n",
      "ValidateElement:\tData: [[DecodingResult(audio_features=tensor([[-0.1163,  0.3962, -0.4033,  ...,  0.0160, -0.2021,  0.0784],\n",
      "        [ 0.0278,  0.0554, -0.2896,  ...,  0.2935,  0.3796, -0.1201],\n",
      "        [-0.2462, -0.0747, -0.1622,  ...,  0.1898,  0.6138,  0.6177],\n",
      "        ...,\n",
      "        [-0.1421, -0.4578, -0.1689,  ..., -0.1376,  0.0439, -0.0374],\n",
      "        [-0.1409, -0.1552, -0.5161,  ..., -0.4895, -0.2344, -0.1147],\n",
      "        [-0.2178,  0.1476, -0.5527,  ..., -0.3953, -0.0414,  0.3799]],\n",
      "       device='cuda:0', dtype=torch.float16), language='en', language_probs=None, tokens=[50365, 4162, 264, 624, 13, 50, 13, 13346, 575, 38942, 309, 42893, 294, 5162, 3364, 1677, 797, 11, 415, 8194, 572, 643, 337, 264, 6019, 27483, 281, 5300, 1179, 6846, 281, 2371, 264, 7241, 13, 50823], text='Since the U.S. currency has strengthened it sharply in recent weight meet again, he sees no need for the federal reserves to raise interest rates to protect the dollar.', avg_logprob=-0.338385195345492, no_speech_prob=1.6605971155450594e-12, temperature=0.0, compression_ratio=1.3658536585365855)], [DecodingResult(audio_features=tensor([[-0.1190,  0.5337, -0.4636,  ..., -0.1089, -0.3162,  0.5381],\n",
      "        [ 0.0290,  0.1011, -0.1311,  ...,  0.2141,  0.4958, -0.0447],\n",
      "        [-0.2417,  0.0101, -0.0794,  ...,  0.2358,  0.4651,  0.6250],\n",
      "        ...,\n",
      "        [-0.1477, -0.5366, -0.2233,  ..., -0.1117,  0.0643, -0.0754],\n",
      "        [-0.1506, -0.1210, -0.5840,  ..., -0.5088, -0.1974, -0.0171],\n",
      "        [-0.2225,  0.1295, -0.5312,  ..., -0.4358,  0.0440,  0.4482]],\n",
      "       device='cuda:0', dtype=torch.float16), language='en', language_probs=None, tokens=[50365, 4162, 264, 624, 13, 50, 13, 4362, 307, 7619, 42893, 294, 5162, 3259, 11, 321, 536, 572, 643, 337, 264, 6019, 50685, 50685, 17824, 281, 5300, 1179, 6846, 281, 2371, 264, 7241, 13, 50824], text='Since the U.S. currently is described sharply in recent weeks, we see no need for the federal reserve to raise interest rates to protect the dollar.', avg_logprob=-0.4379375245836046, no_speech_prob=2.0344771874125644e-12, temperature=0.0, compression_ratio=1.3214285714285714)]]\n",
      "ProcessAudio-1\tIndex-0 Element: ExtractText Output: list, shape: None\n",
      "ValidateElement:\tData: ['/media/teon/Shared/docker_AI_ML/tts_exp/simple-voice-dataset-generator/SepReformer/sample_wav/sample_WSJ_output0.wav', '/media/teon/Shared/docker_AI_ML/tts_exp/simple-voice-dataset-generator/SepReformer/sample_wav/sample_WSJ_output1.wav']\n",
      "ProcessAudio-2\tIndex-0 Element: InputElement Output: list, shape: None\n",
      "ValidateElement:\tData: [[tensor([-0.0402, -0.0330, -0.0336,  ...,  0.0895,  0.1154,  0.1716]), tensor([ 0.0304,  0.0295,  0.0244,  ..., -0.5869, -0.6393, -0.6792])], [[DecodingResult(audio_features=tensor([[-0.1163,  0.3962, -0.4033,  ...,  0.0160, -0.2021,  0.0784],\n",
      "        [ 0.0278,  0.0554, -0.2896,  ...,  0.2935,  0.3796, -0.1201],\n",
      "        [-0.2462, -0.0747, -0.1622,  ...,  0.1898,  0.6138,  0.6177],\n",
      "        ...,\n",
      "        [-0.1421, -0.4578, -0.1689,  ..., -0.1376,  0.0439, -0.0374],\n",
      "        [-0.1409, -0.1552, -0.5161,  ..., -0.4895, -0.2344, -0.1147],\n",
      "        [-0.2178,  0.1476, -0.5527,  ..., -0.3953, -0.0414,  0.3799]],\n",
      "       device='cuda:0', dtype=torch.float16), language='en', language_probs=None, tokens=[50365, 4162, 264, 624, 13, 50, 13, 13346, 575, 38942, 309, 42893, 294, 5162, 3364, 1677, 797, 11, 415, 8194, 572, 643, 337, 264, 6019, 27483, 281, 5300, 1179, 6846, 281, 2371, 264, 7241, 13, 50823], text='Since the U.S. currency has strengthened it sharply in recent weight meet again, he sees no need for the federal reserves to raise interest rates to protect the dollar.', avg_logprob=-0.338385195345492, no_speech_prob=1.6605971155450594e-12, temperature=0.0, compression_ratio=1.3658536585365855)], [DecodingResult(audio_features=tensor([[-0.1190,  0.5337, -0.4636,  ..., -0.1089, -0.3162,  0.5381],\n",
      "        [ 0.0290,  0.1011, -0.1311,  ...,  0.2141,  0.4958, -0.0447],\n",
      "        [-0.2417,  0.0101, -0.0794,  ...,  0.2358,  0.4651,  0.6250],\n",
      "        ...,\n",
      "        [-0.1477, -0.5366, -0.2233,  ..., -0.1117,  0.0643, -0.0754],\n",
      "        [-0.1506, -0.1210, -0.5840,  ..., -0.5088, -0.1974, -0.0171],\n",
      "        [-0.2225,  0.1295, -0.5312,  ..., -0.4358,  0.0440,  0.4482]],\n",
      "       device='cuda:0', dtype=torch.float16), language='en', language_probs=None, tokens=[50365, 4162, 264, 624, 13, 50, 13, 4362, 307, 7619, 42893, 294, 5162, 3259, 11, 321, 536, 572, 643, 337, 264, 6019, 50685, 50685, 17824, 281, 5300, 1179, 6846, 281, 2371, 264, 7241, 13, 50824], text='Since the U.S. currently is described sharply in recent weeks, we see no need for the federal reserve to raise interest rates to protect the dollar.', avg_logprob=-0.4379375245836046, no_speech_prob=2.0344771874125644e-12, temperature=0.0, compression_ratio=1.3214285714285714)]], ['/media/teon/Shared/docker_AI_ML/tts_exp/simple-voice-dataset-generator/SepReformer/sample_wav/sample_WSJ_output0.wav', '/media/teon/Shared/docker_AI_ML/tts_exp/simple-voice-dataset-generator/SepReformer/sample_wav/sample_WSJ_output1.wav']]\n",
      "Index-4 Element: ParallelElement Output: list, shape: None\n",
      "ProcessOutput\tRoot Input: list, shape: None\n",
      "ValidateElement:\tData: [[tensor([-0.0402, -0.0330, -0.0336,  ...,  0.0895,  0.1154,  0.1716]), tensor([ 0.0304,  0.0295,  0.0244,  ..., -0.5869, -0.6393, -0.6792])], ['/media/teon/Shared/docker_AI_ML/tts_exp/simple-voice-dataset-generator/SepReformer/sample_wav/sample_WSJ_output0.wav', '/media/teon/Shared/docker_AI_ML/tts_exp/simple-voice-dataset-generator/SepReformer/sample_wav/sample_WSJ_output1.wav']]\n",
      "ProcessOutput-0\tIndex-0 Element: MaskElement Output: list, shape: None\n",
      "ValidateElement:\tData: None\n",
      "ProcessOutput-0\tIndex-1 Element: SaveAudioFiles Output: NoneType, shape: None\n",
      "ValidateElement:\tData: [[[DecodingResult(audio_features=tensor([[-0.1163,  0.3962, -0.4033,  ...,  0.0160, -0.2021,  0.0784],\n",
      "        [ 0.0278,  0.0554, -0.2896,  ...,  0.2935,  0.3796, -0.1201],\n",
      "        [-0.2462, -0.0747, -0.1622,  ...,  0.1898,  0.6138,  0.6177],\n",
      "        ...,\n",
      "        [-0.1421, -0.4578, -0.1689,  ..., -0.1376,  0.0439, -0.0374],\n",
      "        [-0.1409, -0.1552, -0.5161,  ..., -0.4895, -0.2344, -0.1147],\n",
      "        [-0.2178,  0.1476, -0.5527,  ..., -0.3953, -0.0414,  0.3799]],\n",
      "       device='cuda:0', dtype=torch.float16), language='en', language_probs=None, tokens=[50365, 4162, 264, 624, 13, 50, 13, 13346, 575, 38942, 309, 42893, 294, 5162, 3364, 1677, 797, 11, 415, 8194, 572, 643, 337, 264, 6019, 27483, 281, 5300, 1179, 6846, 281, 2371, 264, 7241, 13, 50823], text='Since the U.S. currency has strengthened it sharply in recent weight meet again, he sees no need for the federal reserves to raise interest rates to protect the dollar.', avg_logprob=-0.338385195345492, no_speech_prob=1.6605971155450594e-12, temperature=0.0, compression_ratio=1.3658536585365855)], [DecodingResult(audio_features=tensor([[-0.1190,  0.5337, -0.4636,  ..., -0.1089, -0.3162,  0.5381],\n",
      "        [ 0.0290,  0.1011, -0.1311,  ...,  0.2141,  0.4958, -0.0447],\n",
      "        [-0.2417,  0.0101, -0.0794,  ...,  0.2358,  0.4651,  0.6250],\n",
      "        ...,\n",
      "        [-0.1477, -0.5366, -0.2233,  ..., -0.1117,  0.0643, -0.0754],\n",
      "        [-0.1506, -0.1210, -0.5840,  ..., -0.5088, -0.1974, -0.0171],\n",
      "        [-0.2225,  0.1295, -0.5312,  ..., -0.4358,  0.0440,  0.4482]],\n",
      "       device='cuda:0', dtype=torch.float16), language='en', language_probs=None, tokens=[50365, 4162, 264, 624, 13, 50, 13, 4362, 307, 7619, 42893, 294, 5162, 3259, 11, 321, 536, 572, 643, 337, 264, 6019, 50685, 50685, 17824, 281, 5300, 1179, 6846, 281, 2371, 264, 7241, 13, 50824], text='Since the U.S. currently is described sharply in recent weeks, we see no need for the federal reserve to raise interest rates to protect the dollar.', avg_logprob=-0.4379375245836046, no_speech_prob=2.0344771874125644e-12, temperature=0.0, compression_ratio=1.3214285714285714)]], ['/media/teon/Shared/docker_AI_ML/tts_exp/simple-voice-dataset-generator/SepReformer/sample_wav/sample_WSJ_output0.wav', '/media/teon/Shared/docker_AI_ML/tts_exp/simple-voice-dataset-generator/SepReformer/sample_wav/sample_WSJ_output1.wav']]\n",
      "ProcessOutput-1\tIndex-0 Element: MaskElement Output: list, shape: None\n",
      "ValidateElement:\tData: [{'language': 'en', 'text': 'Since the U.S. currency has strengthened it sharply in recent weight meet again, he sees no need for the federal reserves to raise interest rates to protect the dollar.', 'file_path': '/media/teon/Shared/docker_AI_ML/tts_exp/simple-voice-dataset-generator/SepReformer/sample_wav/sample_WSJ_output0.wav'}, {'language': 'en', 'text': 'Since the U.S. currently is described sharply in recent weeks, we see no need for the federal reserve to raise interest rates to protect the dollar.', 'file_path': '/media/teon/Shared/docker_AI_ML/tts_exp/simple-voice-dataset-generator/SepReformer/sample_wav/sample_WSJ_output1.wav'}]\n",
      "ProcessOutput-1\tIndex-1 Element: ClosureElement Output: list, shape: None\n",
      "ProcessText\tRoot Input: list, shape: None\n",
      "ValidateElement:\tData: ['/media/teon/Shared/docker_AI_ML/tts_exp/simple-voice-dataset-generator/SepReformer/sample_wav/sample_WSJ_output0.wav|en|Since the U.S. currency has strengthened it sharply in recent weight meet again, he sees no need for the federal reserves to raise interest rates to protect the dollar.', '/media/teon/Shared/docker_AI_ML/tts_exp/simple-voice-dataset-generator/SepReformer/sample_wav/sample_WSJ_output1.wav|en|Since the U.S. currently is described sharply in recent weeks, we see no need for the federal reserve to raise interest rates to protect the dollar.']\n",
      "ProcessText-0\tIndex-0 Element: ToTextDataset Output: list, shape: None\n",
      "ValidateElement:\tData: [['/media/teon/Shared/docker_AI_ML/tts_exp/simple-voice-dataset-generator/SepReformer/sample_wav/sample_WSJ_output0.wav|en|Since the U.S. currency has strengthened it sharply in recent weight meet again, he sees no need for the federal reserves to raise interest rates to protect the dollar.', '/media/teon/Shared/docker_AI_ML/tts_exp/simple-voice-dataset-generator/SepReformer/sample_wav/sample_WSJ_output1.wav|en|Since the U.S. currently is described sharply in recent weeks, we see no need for the federal reserve to raise interest rates to protect the dollar.']]\n",
      "ProcessText-0\tIndex-1 Element: ClosureElement Output: list, shape: None\n",
      "ValidateElement:\tData: ['/media/teon/Shared/docker_AI_ML/tts_exp/simple-voice-dataset-generator/SepReformer/sample_wav/sample_WSJ_output.txt']\n",
      "ProcessText-1\tIndex-0 Element: InputElement Output: list, shape: None\n",
      "ValidateElement:\tData: [[['/media/teon/Shared/docker_AI_ML/tts_exp/simple-voice-dataset-generator/SepReformer/sample_wav/sample_WSJ_output0.wav|en|Since the U.S. currency has strengthened it sharply in recent weight meet again, he sees no need for the federal reserves to raise interest rates to protect the dollar.', '/media/teon/Shared/docker_AI_ML/tts_exp/simple-voice-dataset-generator/SepReformer/sample_wav/sample_WSJ_output1.wav|en|Since the U.S. currently is described sharply in recent weeks, we see no need for the federal reserve to raise interest rates to protect the dollar.']], ['/media/teon/Shared/docker_AI_ML/tts_exp/simple-voice-dataset-generator/SepReformer/sample_wav/sample_WSJ_output.txt']]\n",
      "ProcessOutput-1\tIndex-2 Element: ParallelElement Output: list, shape: None\n",
      "ValidateElement:\tData: None\n",
      "ProcessOutput-1\tIndex-3 Element: SaveTextFile Output: NoneType, shape: None\n",
      "ValidateElement:\tData: [None, None]\n",
      "Index-5 Element: ParallelElement Output: list, shape: None\n"
     ]
    },
    {
     "data": {
      "text/plain": [
       "[None, None]"
      ]
     },
     "execution_count": 16,
     "metadata": {},
     "output_type": "execute_result"
    }
   ],
   "source": [
    "import sys\n",
    "from simple_vg.pipeline import VGPipeline\n",
    "\n",
    "dbg = True\n",
    "def fit_whisper_result_to_elem_input(elem_obj, input):\n",
    "    output_dicts = []\n",
    "    for decode_results, audio_path in zip(*input):\n",
    "        _dict = {}\n",
    "        script: str = ''\n",
    "        for result in decode_results:\n",
    "            _dict['language'] = result.language\n",
    "            script += result.text\n",
    "        _dict['text'] = script.replace('\\n', ' ')\n",
    "        _dict['file_path'] = audio_path\n",
    "        output_dicts.append(_dict)\n",
    "    return output_dicts\n",
    "\n",
    "pipeline_elems = [\n",
    "    load_audio, \n",
    "    only_wav,\n",
    "    # clean_audio, (seems it does not helped for this sample audio.....) \n",
    "    overlap_elem,\n",
    "    ParallelElement(\n",
    "        [\n",
    "            [\n",
    "                audio_tensor_squeeze,\n",
    "                ClosureElement(lambda _, inp: [inp[i] for i in range(len(inp))], None),\n",
    "                TensorToDevice(device='cpu')\n",
    "            ],\n",
    "            [stt_mod],\n",
    "            [InputElement(output_audio_paths)]\n",
    "        ],\n",
    "        dbg=dbg, name='ProcessAudio'\n",
    "    ),\n",
    "    ParallelElement(\n",
    "        [\n",
    "            [\n",
    "                MaskElement([1, 0, 1]), \n",
    "                SaveAudioFiles(settings)\n",
    "            ],\n",
    "            [\n",
    "                MaskElement([0, 1, 1]),\n",
    "                ClosureElement(fit_whisper_result_to_elem_input, None),\n",
    "                ParallelElement(\n",
    "                    [\n",
    "                        [ToTextDataset(['file_path', 'language', 'text'], default=''), ClosureElement(lambda _, inp: [inp], None)],\n",
    "                        [InputElement(output_text_data_paths)]\n",
    "                    ], dbg=dbg, name='ProcessText'\n",
    "                ),\n",
    "                SaveTextFile()\n",
    "            ]\n",
    "        ], dbg=dbg, name='ProcessOutput'\n",
    "    )\n",
    "    ]\n",
    "pipeline = VGPipeline()\n",
    "pipeline.sequential(pipeline_elems)\n",
    "pipeline.run(input=input, dbg=dbg)\n"
   ]
  },
  {
   "cell_type": "code",
   "execution_count": 17,
   "metadata": {},
   "outputs": [
    {
     "data": {
      "text/plain": [
       "{'reduce_noise': tensor([[-0.0053, -0.0056, -0.0047,  ...,  0.0255,  0.0286,  0.0298]],\n",
       "        device='cuda:0')}"
      ]
     },
     "execution_count": 17,
     "metadata": {},
     "output_type": "execute_result"
    }
   ],
   "source": [
    "clean_audio.ret"
   ]
  },
  {
   "cell_type": "code",
   "execution_count": null,
   "metadata": {},
   "outputs": [],
   "source": []
  }
 ],
 "metadata": {
  "kernelspec": {
   "display_name": "proj_decensoring",
   "language": "python",
   "name": "python3"
  },
  "language_info": {
   "codemirror_mode": {
    "name": "ipython",
    "version": 3
   },
   "file_extension": ".py",
   "mimetype": "text/x-python",
   "name": "python",
   "nbconvert_exporter": "python",
   "pygments_lexer": "ipython3",
   "version": "3.10.15"
  }
 },
 "nbformat": 4,
 "nbformat_minor": 2
}
